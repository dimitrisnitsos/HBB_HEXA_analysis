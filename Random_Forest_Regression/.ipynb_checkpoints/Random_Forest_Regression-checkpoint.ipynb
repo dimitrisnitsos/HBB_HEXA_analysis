{
 "cells": [
  {
   "cell_type": "code",
   "execution_count": null,
   "id": "14f18806-8dd6-4df6-b7e5-f32f7cdaceef",
   "metadata": {},
   "outputs": [],
   "source": [
    "# implementation of RFR"
   ]
  }
 ],
 "metadata": {
  "kernelspec": {
   "display_name": "Python 3 (ipykernel)",
   "language": "python",
   "name": "python3"
  },
  "language_info": {
   "codemirror_mode": {
    "name": "ipython",
    "version": 3
   },
   "file_extension": ".py",
   "mimetype": "text/x-python",
   "name": "python",
   "nbconvert_exporter": "python",
   "pygments_lexer": "ipython3",
   "version": "3.9.12"
  }
 },
 "nbformat": 4,
 "nbformat_minor": 5
}
