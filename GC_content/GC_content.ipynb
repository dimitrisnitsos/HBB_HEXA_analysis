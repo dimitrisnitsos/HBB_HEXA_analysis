{
 "cells": [
  {
   "cell_type": "code",
   "execution_count": 10,
   "id": "2202dcd6-4862-4ef9-9f08-cfb0b1b3f421",
   "metadata": {},
   "outputs": [
    {
     "name": "stdout",
     "output_type": "stream",
     "text": [
      "0.6166666666666667\n"
     ]
    }
   ],
   "source": [
    "\n",
    "\n",
    "#x = input(\"Sequence?:\").upper()\n",
    "x = \"TCCGCCGCCCCCCCCCGTGATACAGCTTTTCACAAGGGGGGGGGGCCCCCCCCCCCCAGACAGTAGGTTTATGAGGTGTGCGTTTAAAGGAAGGTGAGCCTATTgTACGACTCCTCCCCG\"\n",
    "\n",
    "total = len(x)\n",
    "c = x.count(\"C\")\n",
    "g = x.count(\"G\")\n",
    "\n",
    "gc_total = g+c\n",
    "\n",
    "gc_content = gc_total/total\n",
    "\n",
    "print(gc_content)\n",
    "\n"
   ]
  },
  {
   "cell_type": "code",
   "execution_count": null,
   "id": "49de245f-5242-4d6a-98f9-7d40e0ca92d3",
   "metadata": {},
   "outputs": [],
   "source": []
  }
 ],
 "metadata": {
  "kernelspec": {
   "display_name": "Python 3 (ipykernel)",
   "language": "python",
   "name": "python3"
  },
  "language_info": {
   "codemirror_mode": {
    "name": "ipython",
    "version": 3
   },
   "file_extension": ".py",
   "mimetype": "text/x-python",
   "name": "python",
   "nbconvert_exporter": "python",
   "pygments_lexer": "ipython3",
   "version": "3.9.12"
  }
 },
 "nbformat": 4,
 "nbformat_minor": 5
}
