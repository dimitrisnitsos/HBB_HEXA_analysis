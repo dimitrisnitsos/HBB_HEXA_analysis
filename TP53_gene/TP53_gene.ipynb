{
 "cells": [
  {
   "cell_type": "code",
   "execution_count": 4,
   "id": "52cd3fd2-091a-4f50-a323-3ff14ef21c16",
   "metadata": {},
   "outputs": [],
   "source": [
    "import difflib\n",
    "import numpy as np\n",
    "import pandas as pd\n",
    "import sys"
   ]
  },
  {
   "cell_type": "markdown",
   "id": "9bef1dd9-1dc1-4d57-b8b1-d9ef5e5e5d8d",
   "metadata": {},
   "source": [
    "<h4>Function that computes the complementary bases.<h4>"
   ]
  },
  {
   "cell_type": "code",
   "execution_count": 3,
   "id": "ac184014-1e21-49f8-bdd2-f55e0b8a0a9b",
   "metadata": {},
   "outputs": [],
   "source": [
    "# Calculate the complementary DNA sequence\n",
    "def complement(Nucleotide):\n",
    "    comp = []\n",
    "    for i in Nucleotide:\n",
    "        if i == \"T\":\n",
    "            comp.append(\"A\")\n",
    "        if i == \"A\":\n",
    "            comp.append(\"T\")\n",
    "        if i == \"G\":\n",
    "            comp.append(\"C\")\n",
    "        if i == \"C\":\n",
    "            comp.append(\"G\")\n",
    "        if i == \"t\":\n",
    "            comp.append(\"a\")\n",
    "        if i == \"a\":\n",
    "            comp.append(\"t\")\n",
    "        if i == \"g\":\n",
    "            comp.append(\"c\")\n",
    "        if i == \"c\":\n",
    "            comp.append(\"g\")    \n",
    "    return ''.join(comp)"
   ]
  },
  {
   "cell_type": "code",
   "execution_count": 2,
   "id": "4810795e-bbf2-493d-9b78-e75fb06025b6",
   "metadata": {},
   "outputs": [
    {
     "name": "stdout",
     "output_type": "stream",
     "text": [
      "mutated_list =  [29]\n",
      "There is a mutated Nucleotide at index: 29\n",
      "Wild Nucleotide =  T\n",
      "mutated Nucleotide =  G\n",
      "mut_nucl_index =  29\n",
      "mut_nucl =  G\n"
     ]
    }
   ],
   "source": [
    "# Coding strand of exon 6 TP53 \n",
    "#coding_strand = 'AAAAAGACATGGGGCTTCATTTTTGTTTTGCCTTTTTGGTATCTTACAGGAACTCCAGGATGGCATTGGGCAGCGGCAAACTGTTGTCAGAACATTGAATGCAACTGGGGAAGAAATAATTCAGCAATCCTCAAAAACAGATGCCAGTATTCTACAGGAAAAATTGGGAAGCCTGAATCTGCGGTGGCAGGAGGTCTGCAAACAGCTGTCAGACAGAAAA'\n",
    "\n",
    "coding_strand =        'ACAGGCCTCTGATTCCTCACTGATTGCTCTTAGGTCTGGCCCCTCCTCAGCATCTTATCCGAGTGGAAGGAAATTTGCGTGTGGAGTATTTGGATGACAGAAACACTTTTCGACATAGTGTGGTGGTGCCCTATGAGCCGCCTGAGG'\n",
    "mutated_coding_strand ='ACAGGCCTCTGATTCCTCACTGATTGCTCGTAGGTCTGGCCCCTCCTCAGCATCTTATCCGAGTGGAAGGAAATTTGCGTGTGGAGTATTTGGATGACAGAAACACTTTTCGACATAGTGTGGTGGTGCCCTATGAGCCGCCTGAGG'\n",
    "\n",
    "#mutated_coding_strand ='ACAGGCCTCTGATTCCTCACTGATTGCTCTTAGGTCTGGCCCCTCCTCAGCATTTTATCCGAGTGGAAGGAAATTTGCGTGTGGAGTATTTGGATGACAGAAACACTTTTCGACATAGTGTGGTGGTGCCCTATGAGCCGCCTGAGG'\n",
    "\n",
    "mutated_list = []\n",
    "def dif(coding_strand, mutated_coding_strand):\n",
    "    return [i for i in range(len(coding_strand)) if coding_strand[i] != mutated_coding_strand[i]]\n",
    "\n",
    "mutated_list = dif(coding_strand, mutated_coding_strand)  #in index\n",
    "print(\"mutated_list = \", mutated_list)\n",
    "\n",
    "#find the index of mutated Nucleotide ,  check strings is equal or not\n",
    "for i in range(len(mutated_list)):\n",
    "    if(coding_strand == mutated_coding_strand):\n",
    "        print('There is nοt a mutated Nucleotide.')\n",
    "    else:  \n",
    "        print('There is a mutated Nucleotide at index:', mutated_list[i])\n",
    "        print('Wild Nucleotide = ',coding_strand[mutated_list[i]])\n",
    "        print('mutated Nucleotide = ',mutated_coding_strand[mutated_list[i]])\n",
    "\n",
    "# we examine the first mutated nucleotide, so we consider the first element from mutated_list\n",
    "mut_nucl_index =  mutated_list[0]\n",
    "print(\"mut_nucl_index = \", mut_nucl_index)         # the first index mutated Nucleotide  \n",
    "\n",
    "mut_nucl = mutated_coding_strand[mutated_list[0]]  # the first mutated Nucleotide  \n",
    "print(\"mut_nucl = \", mut_nucl)   "
   ]
  },
  {
   "cell_type": "code",
   "execution_count": 5,
   "id": "a111731b-fcd1-4a98-b088-21cdee6f3b82",
   "metadata": {},
   "outputs": [
    {
     "name": "stdout",
     "output_type": "stream",
     "text": [
      "edited_nucl =  A\n"
     ]
    }
   ],
   "source": [
    "def find_edited_nucl(mut_nucl, coding_strand):\n",
    "    if coding_strand[mut_nucl_index] == 'C':\n",
    "        return 'G'\n",
    "    if coding_strand[mut_nucl_index] == 'A':\n",
    "        return 'T'\n",
    "    if coding_strand[mut_nucl_index] == 'G':\n",
    "        return 'C'\n",
    "    if coding_strand[mut_nucl_index] == 'T':\n",
    "        return 'A'        \n",
    "    \n",
    "\n",
    "#find the edited nucleotide based on mut_nucl_index\n",
    "edited_nucl = find_edited_nucl(mut_nucl_index, coding_strand)  # here mut_nucl_index  = 29\n",
    "\n",
    "print('edited_nucl = ',edited_nucl)"
   ]
  },
  {
   "cell_type": "code",
   "execution_count": 9,
   "id": "59631851-9d80-4b7c-b75e-2ef29f5108ab",
   "metadata": {},
   "outputs": [],
   "source": [
    "#find the NGG nucleotide indexes\n",
    "\n",
    "def list_of_canditated_PAM(string, substring):     # string could be coding strand or non coding strand, here we examine only coding strand\n",
    "  \n",
    "    # Initialize count and start to 0\n",
    "    count = 0\n",
    "    start = 0\n",
    "    lista = []\n",
    "  \n",
    "    # Search through the string till\n",
    "    # we reach the end of it\n",
    "    while start < len(string):\n",
    "  \n",
    "        # Check if a substring is present from\n",
    "        # 'start' position till the end\n",
    "        pos = string.find(substring, start)\n",
    "  \n",
    "        if pos != -1:\n",
    "            \n",
    "            # If a substring is present, move 'start' to\n",
    "            # the next position from start of the substring\n",
    "            start = pos + 1\n",
    "            lista.append(start-2)\n",
    "  \n",
    "            # Increment the count\n",
    "            count += 1\n",
    "        else:\n",
    "            # If no further substring is present\n",
    "            break\n",
    "    # return the value of count\n",
    "    return lista"
   ]
  },
  {
   "cell_type": "code",
   "execution_count": 10,
   "id": "cf73dcac-ed38-4501-9161-59cfc56d547c",
   "metadata": {},
   "outputs": [
    {
     "name": "stdout",
     "output_type": "stream",
     "text": [
      "find the all indexs where NGG nucleotide =  [2, 31, 36, 63, 67, 81, 90, 120, 123, 144]\n"
     ]
    }
   ],
   "source": [
    "#find the all indexs where NGG nucleotide *** base 0\n",
    "substring = 'GG'\n",
    "list_of_cand_PAM_on_coding_strand = list_of_canditated_PAM(coding_strand, substring)\n",
    "print('find the all indexs where NGG nucleotide = ',list_of_cand_PAM_on_coding_strand)"
   ]
  },
  {
   "cell_type": "code",
   "execution_count": 11,
   "id": "71a3d2d2-3dc3-4d75-8ca5-7d4307c73813",
   "metadata": {},
   "outputs": [
    {
     "name": "stdout",
     "output_type": "stream",
     "text": [
      "find the all indexs where NCC nucleotide =  [4, 13, 38, 39, 40, 43, 57, 127, 128, 136, 139]\n"
     ]
    }
   ],
   "source": [
    "#find the all indexs where NCC nucleotide - NO coding strand *** base 0\n",
    "substring = 'CC'\n",
    "list_of_cand_PAM_on_NOcoding_strand = list_of_canditated_PAM(coding_strand, substring)\n",
    "print('find the all indexs where NCC nucleotide = ',list_of_cand_PAM_on_NOcoding_strand)"
   ]
  },
  {
   "cell_type": "code",
   "execution_count": null,
   "id": "0916cd65-5eb0-471e-ab72-e8f4baa7fb30",
   "metadata": {},
   "outputs": [],
   "source": []
  }
 ],
 "metadata": {
  "kernelspec": {
   "display_name": "Python 3 (ipykernel)",
   "language": "python",
   "name": "python3"
  },
  "language_info": {
   "codemirror_mode": {
    "name": "ipython",
    "version": 3
   },
   "file_extension": ".py",
   "mimetype": "text/x-python",
   "name": "python",
   "nbconvert_exporter": "python",
   "pygments_lexer": "ipython3",
   "version": "3.9.12"
  }
 },
 "nbformat": 4,
 "nbformat_minor": 5
}
