{
 "cells": [
  {
   "cell_type": "code",
   "execution_count": 1,
   "id": "52cd3fd2-091a-4f50-a323-3ff14ef21c16",
   "metadata": {},
   "outputs": [],
   "source": [
    "import numpy as np\n",
    "import pandas as pd\n",
    "import sys"
   ]
  },
  {
   "cell_type": "markdown",
   "id": "9bef1dd9-1dc1-4d57-b8b1-d9ef5e5e5d8d",
   "metadata": {},
   "source": [
    "<h4>Function that computes the complementary bases.<h4>"
   ]
  },
  {
   "cell_type": "code",
   "execution_count": 3,
   "id": "ac184014-1e21-49f8-bdd2-f55e0b8a0a9b",
   "metadata": {},
   "outputs": [],
   "source": [
    "# Calculate the complementary DNA sequence\n",
    "def complement(Nucleotide):\n",
    "    comp = []\n",
    "    for i in Nucleotide:\n",
    "        if i == \"T\":\n",
    "            comp.append(\"A\")\n",
    "        if i == \"A\":\n",
    "            comp.append(\"T\")\n",
    "        if i == \"G\":\n",
    "            comp.append(\"C\")\n",
    "        if i == \"C\":\n",
    "            comp.append(\"G\")\n",
    "        if i == \"t\":\n",
    "            comp.append(\"a\")\n",
    "        if i == \"a\":\n",
    "            comp.append(\"t\")\n",
    "        if i == \"g\":\n",
    "            comp.append(\"c\")\n",
    "        if i == \"c\":\n",
    "            comp.append(\"g\")    \n",
    "    return ''.join(comp)"
   ]
  },
  {
   "cell_type": "code",
   "execution_count": null,
   "id": "4810795e-bbf2-493d-9b78-e75fb06025b6",
   "metadata": {},
   "outputs": [],
   "source": []
  }
 ],
 "metadata": {
  "kernelspec": {
   "display_name": "Python 3 (ipykernel)",
   "language": "python",
   "name": "python3"
  },
  "language_info": {
   "codemirror_mode": {
    "name": "ipython",
    "version": 3
   },
   "file_extension": ".py",
   "mimetype": "text/x-python",
   "name": "python",
   "nbconvert_exporter": "python",
   "pygments_lexer": "ipython3",
   "version": "3.9.12"
  }
 },
 "nbformat": 4,
 "nbformat_minor": 5
}
