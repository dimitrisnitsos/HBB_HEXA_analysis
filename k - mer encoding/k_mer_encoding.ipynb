{
 "cells": [
  {
   "cell_type": "code",
   "execution_count": 1,
   "id": "7b8a877e-990f-411c-a454-8d2c5e4b8606",
   "metadata": {},
   "outputs": [],
   "source": [
    "#nitsos\n",
    "# Import required libraries\n",
    "import numpy as np\n",
    "import pandas as pd \n",
    "import seaborn as sns\n",
    "import sklearn.metrics as metrics\n",
    "import matplotlib.pyplot as plt \n",
    "from sklearn.feature_extraction.text import CountVectorizer"
   ]
  },
  {
   "cell_type": "code",
   "execution_count": 11,
   "id": "0ad3a1f2-f800-4551-8755-170e2148f4b5",
   "metadata": {},
   "outputs": [],
   "source": [
    "df_HBB = pd.read_excel(\"/Users/nitsos/Desktop/computation_nitsos/dataset_analisis/k - mer encoding/HBB.xlsx\")\n",
    "df_HEXA = pd.read_excel(\"/Users/nitsos/Desktop/computation_nitsos/dataset_analisis/k - mer encoding/HEXA.xlsx\") \n",
    "\n",
    "# display(df_HBB, df_HEXA)"
   ]
  },
  {
   "cell_type": "code",
   "execution_count": 22,
   "id": "724b5473-b5d2-499b-ba8f-024ed678ffe1",
   "metadata": {},
   "outputs": [],
   "source": [
    "# concatenating df_HBB and df_HEXA vertical\n",
    "vertical_concat = pd.concat([df_HEXA, df_HBB], axis=0)\n",
    "vertical_concat = vertical_concat.drop('Unnamed: 0', axis=1)\n",
    "#display(vertical_concat)\n"
   ]
  },
  {
   "cell_type": "code",
   "execution_count": 23,
   "id": "93691775-e092-4142-8903-2b8f9534ed0b",
   "metadata": {},
   "outputs": [],
   "source": [
    "# Export to excel\n",
    "vertical_concat.to_excel('dataset.xlsx')"
   ]
  },
  {
   "cell_type": "code",
   "execution_count": null,
   "id": "51da6860-52c8-4c7e-af6e-4003c2f635d1",
   "metadata": {},
   "outputs": [],
   "source": []
  }
 ],
 "metadata": {
  "kernelspec": {
   "display_name": "Python 3 (ipykernel)",
   "language": "python",
   "name": "python3"
  },
  "language_info": {
   "codemirror_mode": {
    "name": "ipython",
    "version": 3
   },
   "file_extension": ".py",
   "mimetype": "text/x-python",
   "name": "python",
   "nbconvert_exporter": "python",
   "pygments_lexer": "ipython3",
   "version": "3.9.12"
  }
 },
 "nbformat": 4,
 "nbformat_minor": 5
}
