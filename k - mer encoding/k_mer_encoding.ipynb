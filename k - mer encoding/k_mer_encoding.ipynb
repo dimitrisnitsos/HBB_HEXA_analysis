{
 "cells": [
  {
   "cell_type": "code",
   "execution_count": 33,
   "id": "7b8a877e-990f-411c-a454-8d2c5e4b8606",
   "metadata": {},
   "outputs": [],
   "source": [
    "#nitsos\n",
    "# Import required libraries\n",
    "import numpy as np\n",
    "import pandas as pd \n",
    "import seaborn as sns\n",
    "import sklearn.metrics as metrics\n",
    "import matplotlib.pyplot as plt \n",
    "from sklearn.feature_extraction.text import CountVectorizer"
   ]
  },
  {
   "cell_type": "code",
   "execution_count": 42,
   "id": "0ad3a1f2-f800-4551-8755-170e2148f4b5",
   "metadata": {},
   "outputs": [],
   "source": [
    "df_HBB = pd.read_excel(\"/Users/nitsos/Desktop/computation_nitsos/dataset_analisis/k - mer encoding/HBB.xlsx\")\n",
    "df_HEXA = pd.read_excel(\"/Users/nitsos/Desktop/computation_nitsos/dataset_analisis/k - mer encoding/HEXA.xlsx\") \n",
    "\n",
    "# display(df_HBB, df_HEXA)"
   ]
  },
  {
   "cell_type": "code",
   "execution_count": 43,
   "id": "724b5473-b5d2-499b-ba8f-024ed678ffe1",
   "metadata": {},
   "outputs": [],
   "source": [
    "# concatenating df_HBB and df_HEXA vertical\n",
    "vertical_concat = pd.concat([df_HEXA, df_HBB], axis=0)\n",
    "vertical_concat = vertical_concat.drop('Unnamed: 0', axis=1)\n",
    "#display(vertical_concat)\n"
   ]
  },
  {
   "cell_type": "code",
   "execution_count": 46,
   "id": "93691775-e092-4142-8903-2b8f9534ed0b",
   "metadata": {},
   "outputs": [],
   "source": [
    "# Export to excel\n",
    "vertical_concat.to_excel('dataset.xlsx')"
   ]
  },
  {
   "cell_type": "code",
   "execution_count": 52,
   "id": "51da6860-52c8-4c7e-af6e-4003c2f635d1",
   "metadata": {},
   "outputs": [],
   "source": [
    "df_dataset = pd.read_excel(\"/Users/nitsos/Desktop/computation_nitsos/dataset_analisis/k - mer encoding/dataset.xlsx\")\n",
    "df_dataset = df_dataset.drop('Spacer sequence', axis=1)\n",
    "df_dataset = df_dataset.drop('Unnamed: 0', axis=1)\n",
    "df_dataset.rename(columns={\"3' extension\":\"3extension\"}, inplace=True)\n",
    "#display(df_dataset)"
   ]
  },
  {
   "cell_type": "code",
   "execution_count": 58,
   "id": "aa3552d3-3a47-427b-8e8f-5431f9f4f1c2",
   "metadata": {},
   "outputs": [],
   "source": [
    "# Creating the Bag of Words model using CountVectorizer()\n",
    "# This is equivalent to k-mer counting\n",
    "cv = CountVectorizer(ngram_range=(3,3), analyzer='char')\n",
    "X = cv.fit_transform(df_dataset['3extension'])\n",
    "#print(X)\n",
    "#print(type(X))  # <class 'scipy.sparse.csr.csr_matrix'>\n",
    "#print(X.shape)  # (57, 44)"
   ]
  },
  {
   "cell_type": "code",
   "execution_count": 65,
   "id": "354b5567-727c-4372-9e4a-34fc4359d075",
   "metadata": {},
   "outputs": [],
   "source": [
    "feature = cv.get_feature_names_out()\n",
    "# print(type(feature))      # <class 'numpy.ndarray'>\n",
    "# print(len(feature))       # 44\n",
    "# feature                   # print feature array"
   ]
  },
  {
   "cell_type": "code",
   "execution_count": null,
   "id": "04eaefa9-1a7c-458d-b19e-db418fbc908d",
   "metadata": {},
   "outputs": [],
   "source": []
  }
 ],
 "metadata": {
  "kernelspec": {
   "display_name": "Python 3 (ipykernel)",
   "language": "python",
   "name": "python3"
  },
  "language_info": {
   "codemirror_mode": {
    "name": "ipython",
    "version": 3
   },
   "file_extension": ".py",
   "mimetype": "text/x-python",
   "name": "python",
   "nbconvert_exporter": "python",
   "pygments_lexer": "ipython3",
   "version": "3.9.12"
  }
 },
 "nbformat": 4,
 "nbformat_minor": 5
}
